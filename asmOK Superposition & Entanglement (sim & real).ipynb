{
 "cells": [
  {
   "cell_type": "code",
   "execution_count": 1,
   "metadata": {},
   "outputs": [],
   "source": [
    "# Purpose: Experimenting Quantum Superposition & Entanglement (simulated & real)\n",
    "# Author: Andi Sama\n",
    "# Organization: Sinergi Wahana Gemilang, an IBM Value Added Distributor\n",
    "# Created date: Jan 19, 2019\n",
    "# Modification date: -\n",
    "# Modification history: -\n",
    "# Description: \n",
    "#   A. Single qubit Superposition\n",
    "#     |+> = ( |0>+|1> )/ SQRT(2)\n",
    "#           meaning 50% chance at |0> state and 50% chance at |1> state\n",
    "#   B. Two-qubits Entanglement (bell state)\n",
    "#     ( |00>+|11> ) / SQRT(2)\n",
    "#     ( |01>+|10> ) / SQRT(2)"
   ]
  },
  {
   "cell_type": "code",
   "execution_count": 4,
   "metadata": {},
   "outputs": [],
   "source": [
    "#import required basic functions\n",
    "from qiskit import QuantumRegister, ClassicalRegister, QuantumCircuit\n",
    "from qiskit import execute\n",
    "from qiskit import BasicAer #the backend simulated quantum computer, this can be replaced with the real IBMQ  \n",
    "\n",
    "# import additional functions\n",
    "from qiskit import IBMQ, providers\n",
    "from qiskit.tools.visualization import plot_histogram, plot_state, plot_bloch_vector"
   ]
  },
  {
   "cell_type": "code",
   "execution_count": 20,
   "metadata": {},
   "outputs": [],
   "source": [
    "# =======================================\n",
    "# A. Single qubit superposition\n",
    "# =======================================\n",
    "# initialization\n",
    "qrs = QuantumRegister(1) #quantum registers \n",
    "crs = ClassicalRegister(1) #classical regiser\n",
    "qcs = QuantumCircuit(qrs, crs) #create quantum circuit "
   ]
  },
  {
   "cell_type": "code",
   "execution_count": 21,
   "metadata": {},
   "outputs": [
    {
     "data": {
      "text/html": [
       "<pre style=\"word-wrap: normal;white-space: pre;line-height: 15px;\">         ┌───┐┌─┐\n",
       "q2_0: |0>┤ H ├┤M├\n",
       "         └───┘└╥┘\n",
       " c2_0: 0 ══════╩═\n",
       "                 </pre>"
      ],
      "text/plain": [
       "<qiskit.tools.visualization._text.TextDrawing at 0x7fd1562d4278>"
      ]
     },
     "execution_count": 21,
     "metadata": {},
     "output_type": "execute_result"
    }
   ],
   "source": [
    "qcs.h(qrs[0]) # apply Hadamard gate to put qubit 0 in superposition\n",
    "qcs.measure(qrs[0], crs[0]) #measure qubit 0, save result to classical register 0\n",
    "qcs.draw()"
   ]
  },
  {
   "cell_type": "code",
   "execution_count": 27,
   "metadata": {},
   "outputs": [
    {
     "name": "stdout",
     "output_type": "stream",
     "text": [
      "Result from Simulated Quantum Computer: {'0': 525, '1': 499}\n"
     ]
    }
   ],
   "source": [
    "# 1st, use simulated Quantum Computer\n",
    "backend = BasicAer.get_backend('qasm_simulator')\n",
    "job = execute(qcs, backend, shots=1024)\n",
    "sresult = job.result()\n",
    "scounts = sresult.get_counts()\n",
    "print(\"Result from Simulated Quantum Computer:\", scounts)"
   ]
  },
  {
   "cell_type": "code",
   "execution_count": 23,
   "metadata": {},
   "outputs": [],
   "source": [
    "# 2nd, use the real IBM Q Quantum Computer\n",
    "# Define API token to access IBM Q real quantum computer\n",
    "#   API token can be generated from https://quantumexperience.ng.bluemix.net/qx/account/advanced\n",
    "#   use qiskit.IBMQ.save_account(APIToken) to define and qiskit.IBMQ.load_accounts(APIToken) to use\n",
    "#     MyKey='API token'\n",
    "#     IBMQ.save_account(APIToken) #save API token\n",
    "#     IBMQ.load_accounts(APIToken) #to use API token\n",
    "MyKey='...Insert Your Key here...'\n",
    "IBMQ.save_account(MyKey, overwrite=True)"
   ]
  },
  {
   "cell_type": "code",
   "execution_count": 24,
   "metadata": {},
   "outputs": [
    {
     "name": "stdout",
     "output_type": "stream",
     "text": [
      "We'll use the least busy IBMQ device: ibmqx4\n",
      "{'0': 489, '1': 535}\n"
     ]
    }
   ],
   "source": [
    "# processing quantum circuit on the real IBM Q Quantum Computer\n",
    "IBMQ.load_accounts()\n",
    "backend = providers.ibmq.least_busy(IBMQ.backends(simulator=False))\n",
    "print(\"We'll use the least busy IBMQ device:\", backend.name())\n",
    "job = execute(qcs, backend)\n",
    "qresult = job.result()\n",
    "qcounts = qresult.get_counts()\n",
    "print(\"Result from Real IBMQ Quantum Computer:\", qcounts)"
   ]
  },
  {
   "cell_type": "code",
   "execution_count": 26,
   "metadata": {},
   "outputs": [
    {
     "data": {
      "image/png": "[encoded data removed]",
      "text/plain": [
       "<Figure size 504x360 with 1 Axes>"
      ]
     },
     "execution_count": 26,
     "metadata": {},
     "output_type": "execute_result"
    }
   ],
   "source": [
    "legend=['Simulated QC', 'Real QC']\n",
    "plot_histogram([scounts, qcounts], legend=legend, bar_labels=True)"
   ]
  },
  {
   "cell_type": "code",
   "execution_count": 29,
   "metadata": {},
   "outputs": [],
   "source": [
    "# =======================================\n",
    "# B. Two-qubits Entanglement (bell state)\n",
    "# =======================================\n",
    "# 1st Entanglement (Bellstate) = ( |00> + |11>) / SQRT(2)\n",
    "# initialization\n",
    "qrE = QuantumRegister(2) #quantum registers \n",
    "crE = ClassicalRegister(2) #classical regiser\n",
    "qcE = QuantumCircuit(qrE, crE) #create quantum circuit \n",
    "# qcE.draw()"
   ]
  },
  {
   "cell_type": "code",
   "execution_count": 30,
   "metadata": {},
   "outputs": [
    {
     "data": {
      "text/html": [
       "<pre style=\"word-wrap: normal;white-space: pre;line-height: 15px;\">         ┌───┐        ┌─┐\n",
       "q4_0: |0>┤ H ├──■─────┤M├\n",
       "         └───┘┌─┴─┐┌─┐└╥┘\n",
       "q4_1: |0>─────┤ X ├┤M├─╫─\n",
       "              └───┘└╥┘ ║ \n",
       " c4_0: 0 ═══════════╬══╩═\n",
       "                    ║    \n",
       " c4_1: 0 ═══════════╩════\n",
       "                         </pre>"
      ],
      "text/plain": [
       "<qiskit.tools.visualization._text.TextDrawing at 0x7fd1562d8898>"
      ]
     },
     "execution_count": 30,
     "metadata": {},
     "output_type": "execute_result"
    }
   ],
   "source": [
    "# create 2 qubits engtanglement\n",
    "qcE.h(qrE[0]) # apply Hadamard gate to put qubit 0 in superposition\n",
    "qcE.cx(qrE[0], qrE[1]) # apply CNOT gate, qbit 0 controlling qubit 1\n",
    "qcE.measure(qrE[0], crE[0]) #measure qubit 0, save result to classical register 0\n",
    "qcE.measure(qrE[1], crE[1]) #measure qubit 1, save result to classical register 1\n",
    "qcE.draw() #draw the circuit"
   ]
  },
  {
   "cell_type": "code",
   "execution_count": 31,
   "metadata": {},
   "outputs": [
    {
     "name": "stdout",
     "output_type": "stream",
     "text": [
      "{'0': 525, '1': 499}\n"
     ]
    }
   ],
   "source": [
    "backend = BasicAer.get_backend('qasm_simulator')\n",
    "job = execute(qcE, backend, shots=1024)\n",
    "sresult = job.result()\n",
    "scounts = result.get_counts()\n",
    "print(scounts)"
   ]
  },
  {
   "cell_type": "code",
   "execution_count": 32,
   "metadata": {},
   "outputs": [
    {
     "name": "stdout",
     "output_type": "stream",
     "text": [
      "We'll use the least busy IBMQ device: ibmqx4\n",
      "Result from Real IBMQ Quantum Computer: {'00': 410, '10': 80, '01': 90, '11': 444}\n"
     ]
    }
   ],
   "source": [
    "# processing quantum circuit on the real IBM Q Quantum Computer\n",
    "IBMQ.load_accounts()\n",
    "backend = providers.ibmq.least_busy(IBMQ.backends(simulator=False))\n",
    "print(\"We'll use the least busy IBMQ device:\", backend.name())\n",
    "job = execute(qcE, backend)\n",
    "qresult = job.result()\n",
    "qcounts = qresult.get_counts()\n",
    "print(\"Result from Real IBMQ Quantum Computer:\", qcounts)"
   ]
  },
  {
   "cell_type": "code",
   "execution_count": 33,
   "metadata": {},
   "outputs": [
    {
     "data": {
      "image/png": "[encoded data removed]",
      "text/plain": [
       "<Figure size 504x360 with 1 Axes>"
      ]
     },
     "execution_count": 33,
     "metadata": {},
     "output_type": "execute_result"
    }
   ],
   "source": [
    "legend=['Simulated QC', 'Real QC']\n",
    "plot_histogram([scounts, qcounts], legend=legend, bar_labels=True)"
   ]
  },
  {
   "cell_type": "code",
   "execution_count": 34,
   "metadata": {},
   "outputs": [],
   "source": [
    "# 2nd Entanglement (Bellstate) = ( |01> + |10>) / SQRT(2)\n",
    "# initialization\n",
    "qrEb = QuantumRegister(2) #quantum registers \n",
    "crEb = ClassicalRegister(2) #classical regiser\n",
    "qcEb = QuantumCircuit(qrEb, crEb) #create quantum circuit \n",
    "# qrb.draw()"
   ]
  },
  {
   "cell_type": "code",
   "execution_count": 35,
   "metadata": {},
   "outputs": [
    {
     "data": {
      "text/html": [
       "<pre style=\"word-wrap: normal;white-space: pre;line-height: 15px;\">              ┌───┐        ┌─┐\n",
       "q5_0: |0>─────┤ H ├──■─────┤M├\n",
       "         ┌───┐└───┘┌─┴─┐┌─┐└╥┘\n",
       "q5_1: |0>┤ X ├─────┤ X ├┤M├─╫─\n",
       "         └───┘     └───┘└╥┘ ║ \n",
       " c5_0: 0 ════════════════╬══╩═\n",
       "                         ║    \n",
       " c5_1: 0 ════════════════╩════\n",
       "                              </pre>"
      ],
      "text/plain": [
       "<qiskit.tools.visualization._text.TextDrawing at 0x7fd156326e10>"
      ]
     },
     "execution_count": 35,
     "metadata": {},
     "output_type": "execute_result"
    }
   ],
   "source": [
    "# create 2 qubits engtanglement\n",
    "qcEb.h(qrEb[0]) #apply Hadamard gate to put qubit 0 in superposition\n",
    "qcEb.x(qrEb[1]) #apply X gate to qubit 1\n",
    "qcEb.cx(qrEb[0], qrEb[1]) #apply CNOT gate, qbit 0 controlling qubit 1\n",
    "qcEb.measure(qrEb[0], crEb[0]) #measure qubit 0, save result to classical register 0\n",
    "qcEb.measure(qrEb[1], crEb[1]) #measure qubit 1, save result to classical register 1\n",
    "qcEb.draw() #draw the circuit"
   ]
  },
  {
   "cell_type": "code",
   "execution_count": 36,
   "metadata": {},
   "outputs": [
    {
     "name": "stdout",
     "output_type": "stream",
     "text": [
      "{'0': 525, '1': 499}\n"
     ]
    }
   ],
   "source": [
    "backend = BasicAer.get_backend('qasm_simulator')\n",
    "job = execute(qcEb, backend, shots=1024)\n",
    "sresult = job.result()\n",
    "scounts = result.get_counts()\n",
    "print(scounts)"
   ]
  },
  {
   "cell_type": "code",
   "execution_count": 37,
   "metadata": {},
   "outputs": [
    {
     "name": "stdout",
     "output_type": "stream",
     "text": [
      "We'll use the least busy IBMQ device: ibmqx4\n",
      "Result from Real IBMQ Quantum Computer: {'00': 102, '10': 419, '01': 488, '11': 15}\n"
     ]
    }
   ],
   "source": [
    "# processing quantum circuit on the real IBM Q Quantum Computer\n",
    "IBMQ.load_accounts()\n",
    "backend = providers.ibmq.least_busy(IBMQ.backends(simulator=False))\n",
    "print(\"We'll use the least busy IBMQ device:\", backend.name())\n",
    "job = execute(qcEb, backend)\n",
    "qresult = job.result()\n",
    "qcounts = qresult.get_counts()\n",
    "print(\"Result from Real IBMQ Quantum Computer:\", qcounts)"
   ]
  },
  {
   "cell_type": "code",
   "execution_count": 38,
   "metadata": {},
   "outputs": [
    {
     "data": {
      "image/png": "[encoded data removed]",
      "text/plain": [
       "<Figure size 504x360 with 1 Axes>"
      ]
     },
     "execution_count": 38,
     "metadata": {},
     "output_type": "execute_result"
    }
   ],
   "source": [
    "legend=['Simulated QC', 'Real QC']\n",
    "plot_histogram([scounts, qcounts], legend=legend, bar_labels=True)"
   ]
  }
 ],
 "metadata": {
  "kernelspec": {
   "display_name": "Python 3",
   "language": "python",
   "name": "python3"
  },
  "language_info": {
   "codemirror_mode": {
    "name": "ipython",
    "version": 3
   },
   "file_extension": ".py",
   "mimetype": "text/x-python",
   "name": "python",
   "nbconvert_exporter": "python",
   "pygments_lexer": "ipython3",
   "version": "3.7.2"
  }
 },
 "nbformat": 4,
 "nbformat_minor": 2
}
