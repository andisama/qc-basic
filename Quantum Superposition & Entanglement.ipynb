{
 "cells": [
  {
   "cell_type": "code",
   "execution_count": 1,
   "metadata": {},
   "outputs": [],
   "source": [
    "# Purpose: Experimenting Quantum Superposition & Entanglement (simulated & real quantum computer)\n",
    "# Author: Andi Sama\n",
    "# Organization: Sinergi Wahana Gemilang, an IBM Value Added Distributor\n",
    "# Created date: Jan 19, 2019\n",
    "# Last Modification date: Jan 21, 2019\n",
    "# Modification history: - \n",
    "# Description: \n",
    "#   A. Single qubit Superposition\n",
    "#     |+> = ( |0>+|1> )/ SQRT(2)\n",
    "#           meaning 50% chance at |0> state and 50% chance at |1> state\n",
    "#   B. Two-qubits Entanglement (bell state)\n",
    "#     ( |00>+|11> ) / SQRT(2)\n",
    "#     ( |01>+|10> ) / SQRT(2)"
   ]
  },
  {
   "cell_type": "code",
   "execution_count": 2,
   "metadata": {},
   "outputs": [
    {
     "name": "stderr",
     "output_type": "stream",
     "text": [
      "/home/andisama/.conda/envs/myenv/lib/python3.7/site-packages/marshmallow/schema.py:364: ChangedInMarshmallow3Warning: strict=False is not recommended. In marshmallow 3.0, schemas will always be strict. See https://marshmallow.readthedocs.io/en/latest/upgrading.html#schemas-are-always-strict\n",
      "  ChangedInMarshmallow3Warning\n"
     ]
    }
   ],
   "source": [
    "#import required basic functions\n",
    "from qiskit import QuantumRegister, ClassicalRegister, QuantumCircuit\n",
    "from qiskit import execute\n",
    "from qiskit import BasicAer #the backend simulated quantum computer, this can be replaced with the real IBMQ  \n",
    "\n",
    "# import additional functions\n",
    "from qiskit import IBMQ, providers\n",
    "from qiskit.tools.visualization import plot_histogram, plot_state, plot_bloch_vector"
   ]
  },
  {
   "cell_type": "code",
   "execution_count": 3,
   "metadata": {},
   "outputs": [],
   "source": [
    "# =======================================\n",
    "# A. Single qubit superposition\n",
    "# =======================================\n",
    "# initialization\n",
    "qrs = QuantumRegister(1) #quantum registers \n",
    "crs = ClassicalRegister(1) #classical regiser\n",
    "qcs = QuantumCircuit(qrs, crs) #create quantum circuit "
   ]
  },
  {
   "cell_type": "code",
   "execution_count": 4,
   "metadata": {},
   "outputs": [
    {
     "data": {
      "text/html": [
       "<pre style=\"word-wrap: normal;white-space: pre;line-height: 15px;\">         ┌───┐┌─┐\n",
       "q0_0: |0>┤ H ├┤M├\n",
       "         └───┘└╥┘\n",
       " c0_0: 0 ══════╩═\n",
       "                 </pre>"
      ],
      "text/plain": [
       "<qiskit.tools.visualization._text.TextDrawing at 0x7f4c7df79550>"
      ]
     },
     "execution_count": 4,
     "metadata": {},
     "output_type": "execute_result"
    }
   ],
   "source": [
    "qcs.h(qrs[0]) # apply Hadamard gate to put qubit 0 in superposition\n",
    "qcs.measure(qrs[0], crs[0]) #measure qubit 0, save result to classical register 0\n",
    "qcs.draw()"
   ]
  },
  {
   "cell_type": "code",
   "execution_count": 5,
   "metadata": {},
   "outputs": [
    {
     "name": "stderr",
     "output_type": "stream",
     "text": [
      "/home/andisama/.conda/envs/myenv/lib/python3.7/site-packages/marshmallow/schema.py:364: ChangedInMarshmallow3Warning: strict=False is not recommended. In marshmallow 3.0, schemas will always be strict. See https://marshmallow.readthedocs.io/en/latest/upgrading.html#schemas-are-always-strict\n",
      "  ChangedInMarshmallow3Warning\n",
      "/home/andisama/.conda/envs/myenv/lib/python3.7/site-packages/marshmallow/schema.py:364: ChangedInMarshmallow3Warning: strict=False is not recommended. In marshmallow 3.0, schemas will always be strict. See https://marshmallow.readthedocs.io/en/latest/upgrading.html#schemas-are-always-strict\n",
      "  ChangedInMarshmallow3Warning\n",
      "/home/andisama/.conda/envs/myenv/lib/python3.7/site-packages/marshmallow/schema.py:364: ChangedInMarshmallow3Warning: strict=False is not recommended. In marshmallow 3.0, schemas will always be strict. See https://marshmallow.readthedocs.io/en/latest/upgrading.html#schemas-are-always-strict\n",
      "  ChangedInMarshmallow3Warning\n",
      "/home/andisama/.conda/envs/myenv/lib/python3.7/site-packages/marshmallow/schema.py:364: ChangedInMarshmallow3Warning: strict=False is not recommended. In marshmallow 3.0, schemas will always be strict. See https://marshmallow.readthedocs.io/en/latest/upgrading.html#schemas-are-always-strict\n",
      "  ChangedInMarshmallow3Warning\n"
     ]
    }
   ],
   "source": [
    "# 1st, use simulated Quantum Computer\n",
    "backend = BasicAer.get_backend('qasm_simulator')\n",
    "job = execute(qcs, backend, shots=1024)\n",
    "sresult = job.result()\n",
    "scounts = sresult.get_counts()"
   ]
  },
  {
   "cell_type": "code",
   "execution_count": 6,
   "metadata": {},
   "outputs": [
    {
     "name": "stdout",
     "output_type": "stream",
     "text": [
      "Result from Simulated Quantum Computer: {'1': 526, '0': 498}\n"
     ]
    }
   ],
   "source": [
    "print(\"Result from Simulated Quantum Computer:\", scounts)"
   ]
  },
  {
   "cell_type": "code",
   "execution_count": 7,
   "metadata": {},
   "outputs": [],
   "source": [
    "# 2nd, use the real IBM Q Quantum Computer\n",
    "# Define API token to access IBM Q real quantum computer\n",
    "#   API token can be generated from https://quantumexperience.ng.bluemix.net/qx/account/advanced\n",
    "#   use qiskit.IBMQ.save_account(APIToken) to define and qiskit.IBMQ.load_accounts(APIToken) to use\n",
    "#     MyKey='API token'\n",
    "#     IBMQ.save_account(APIToken) #save API token\n",
    "#     IBMQ.load_accounts(APIToken) #to use API token\n",
    "MyKey='--- fill your key here ---'\n",
    "IBMQ.save_account(MyKey, overwrite=True)"
   ]
  },
  {
   "cell_type": "code",
   "execution_count": 8,
   "metadata": {},
   "outputs": [
    {
     "name": "stdout",
     "output_type": "stream",
     "text": [
      "We'll use the least busy IBMQ device: ibmqx4\n"
     ]
    }
   ],
   "source": [
    "# processing quantum circuit on the real IBM Q Quantum Computer\n",
    "IBMQ.load_accounts()\n",
    "backend = providers.ibmq.least_busy(IBMQ.backends(simulator=False))\n",
    "print(\"We'll use the least busy IBMQ device:\", backend.name())\n",
    "job = execute(qcs, backend)\n",
    "qresult = job.result()\n",
    "qcounts = qresult.get_counts()"
   ]
  },
  {
   "cell_type": "code",
   "execution_count": 9,
   "metadata": {},
   "outputs": [
    {
     "name": "stdout",
     "output_type": "stream",
     "text": [
      "Result from Real IBMQ Quantum Computer: {'1': 483, '0': 541}\n"
     ]
    }
   ],
   "source": [
    "print(\"Result from Real IBMQ Quantum Computer:\", qcounts)"
   ]
  },
  {
   "cell_type": "code",
   "execution_count": 10,
   "metadata": {},
   "outputs": [
    {
     "data": {
      "image/png": "[encoded data removed]",
      "text/plain": [
       "<Figure size 504x360 with 1 Axes>"
      ]
     },
     "execution_count": 10,
     "metadata": {},
     "output_type": "execute_result"
    }
   ],
   "source": [
    "legend=['Simulated QC', 'Real QC']\n",
    "plot_histogram([scounts, qcounts], legend=legend, bar_labels=True)"
   ]
  },
  {
   "cell_type": "code",
   "execution_count": 11,
   "metadata": {},
   "outputs": [],
   "source": [
    "# =======================================\n",
    "# B. Two-qubits Entanglement (bell state)\n",
    "# =======================================\n",
    "# 1st Entanglement (Bellstate) = ( |00> + |11>) / SQRT(2)\n",
    "# initialization\n",
    "qrE = QuantumRegister(2) #quantum registers \n",
    "crE = ClassicalRegister(2) #classical regiser\n",
    "qcE = QuantumCircuit(qrE, crE) #create quantum circuit "
   ]
  },
  {
   "cell_type": "code",
   "execution_count": 12,
   "metadata": {},
   "outputs": [
    {
     "data": {
      "text/html": [
       "<pre style=\"word-wrap: normal;white-space: pre;line-height: 15px;\">         ┌───┐        ┌─┐\n",
       "q1_0: |0>┤ H ├──■─────┤M├\n",
       "         └───┘┌─┴─┐┌─┐└╥┘\n",
       "q1_1: |0>─────┤ X ├┤M├─╫─\n",
       "              └───┘└╥┘ ║ \n",
       " c1_0: 0 ═══════════╬══╩═\n",
       "                    ║    \n",
       " c1_1: 0 ═══════════╩════\n",
       "                         </pre>"
      ],
      "text/plain": [
       "<qiskit.tools.visualization._text.TextDrawing at 0x7f4c78560a90>"
      ]
     },
     "execution_count": 12,
     "metadata": {},
     "output_type": "execute_result"
    }
   ],
   "source": [
    "# create 2 qubits engtanglement\n",
    "qcE.h(qrE[0]) # apply Hadamard gate to put qubit 0 in superposition\n",
    "qcE.cx(qrE[0], qrE[1]) # apply CNOT gate, qbit 0 controlling qubit 1\n",
    "qcE.measure(qrE[0], crE[0]) #measure qubit 0, save result to classical register 0\n",
    "qcE.measure(qrE[1], crE[1]) #measure qubit 1, save result to classical register 1\n",
    "qcE.draw() #draw the circuit"
   ]
  },
  {
   "cell_type": "code",
   "execution_count": 13,
   "metadata": {},
   "outputs": [],
   "source": [
    "backend = BasicAer.get_backend('qasm_simulator')\n",
    "job = execute(qcE, backend, shots=1024)\n",
    "sresult = job.result()\n",
    "scounts = sresult.get_counts()"
   ]
  },
  {
   "cell_type": "code",
   "execution_count": 14,
   "metadata": {},
   "outputs": [
    {
     "name": "stdout",
     "output_type": "stream",
     "text": [
      "{'00': 498, '11': 526}\n"
     ]
    }
   ],
   "source": [
    "print(scounts)"
   ]
  },
  {
   "cell_type": "code",
   "execution_count": 15,
   "metadata": {},
   "outputs": [
    {
     "name": "stderr",
     "output_type": "stream",
     "text": [
      "/home/andisama/.conda/envs/myenv/lib/python3.7/site-packages/qiskit/providers/ibmq/ibmqprovider.py:251: UserWarning: Credentials are already in use.\n",
      "  warnings.warn('Credentials are already in use.')\n"
     ]
    },
    {
     "name": "stdout",
     "output_type": "stream",
     "text": [
      "We'll use the least busy IBMQ device: ibmqx4\n"
     ]
    }
   ],
   "source": [
    "# processing quantum circuit on the real IBM Q Quantum Computer\n",
    "IBMQ.load_accounts()\n",
    "backend = providers.ibmq.least_busy(IBMQ.backends(simulator=False))\n",
    "print(\"We'll use the least busy IBMQ device:\", backend.name())\n",
    "job = execute(qcE, backend)\n",
    "qresult = job.result()\n",
    "qcounts = qresult.get_counts()"
   ]
  },
  {
   "cell_type": "code",
   "execution_count": 16,
   "metadata": {},
   "outputs": [
    {
     "name": "stdout",
     "output_type": "stream",
     "text": [
      "Result from Real IBMQ Quantum Computer: {'01': 65, '00': 494, '10': 46, '11': 419}\n"
     ]
    }
   ],
   "source": [
    "print(\"Result from Real IBMQ Quantum Computer:\", qcounts)"
   ]
  },
  {
   "cell_type": "code",
   "execution_count": 17,
   "metadata": {},
   "outputs": [
    {
     "data": {
      "image/png": "[encoded data removed]",
      "text/plain": [
       "<Figure size 504x360 with 1 Axes>"
      ]
     },
     "execution_count": 17,
     "metadata": {},
     "output_type": "execute_result"
    }
   ],
   "source": [
    "legend=['Simulated QC', 'Real QC']\n",
    "plot_histogram([scounts, qcounts], legend=legend, bar_labels=True)"
   ]
  },
  {
   "cell_type": "code",
   "execution_count": 18,
   "metadata": {},
   "outputs": [
    {
     "data": {
      "text/html": [
       "<pre style=\"word-wrap: normal;white-space: pre;line-height: 15px;\">         \n",
       "q2_0: |0>\n",
       "         \n",
       "q2_1: |0>\n",
       "         \n",
       " c2_0: 0 \n",
       "         \n",
       " c2_1: 0 \n",
       "         </pre>"
      ],
      "text/plain": [
       "<qiskit.tools.visualization._text.TextDrawing at 0x7f4c6af3a128>"
      ]
     },
     "execution_count": 18,
     "metadata": {},
     "output_type": "execute_result"
    }
   ],
   "source": [
    "# 2nd Entanglement (Bellstate) = ( |01> + |10>) / SQRT(2)\n",
    "# initialization\n",
    "qrEb = QuantumRegister(2) #quantum registers \n",
    "crEb = ClassicalRegister(2) #classical regiser\n",
    "qcEb = QuantumCircuit(qrEb, crEb) #create quantum circuit \n",
    "qcEb.draw()"
   ]
  },
  {
   "cell_type": "code",
   "execution_count": 19,
   "metadata": {},
   "outputs": [
    {
     "data": {
      "text/html": [
       "<pre style=\"word-wrap: normal;white-space: pre;line-height: 15px;\">              ┌───┐        ┌─┐\n",
       "q2_0: |0>─────┤ H ├──■─────┤M├\n",
       "         ┌───┐└───┘┌─┴─┐┌─┐└╥┘\n",
       "q2_1: |0>┤ X ├─────┤ X ├┤M├─╫─\n",
       "         └───┘     └───┘└╥┘ ║ \n",
       " c2_0: 0 ════════════════╬══╩═\n",
       "                         ║    \n",
       " c2_1: 0 ════════════════╩════\n",
       "                              </pre>"
      ],
      "text/plain": [
       "<qiskit.tools.visualization._text.TextDrawing at 0x7f4c6aed1a90>"
      ]
     },
     "execution_count": 19,
     "metadata": {},
     "output_type": "execute_result"
    }
   ],
   "source": [
    "# create 2 qubits engtanglement\n",
    "qcEb.h(qrEb[0]) #apply Hadamard gate to put qubit 0 in superposition\n",
    "qcEb.x(qrEb[1]) #apply X gate to qubit 1\n",
    "qcEb.cx(qrEb[0], qrEb[1]) #apply CNOT gate, qbit 0 controlling qubit 1\n",
    "qcEb.measure(qrEb[0], crEb[0]) #measure qubit 0, save result to classical register 0\n",
    "qcEb.measure(qrEb[1], crEb[1]) #measure qubit 1, save result to classical register 1\n",
    "qcEb.draw() #draw the circuit"
   ]
  },
  {
   "cell_type": "code",
   "execution_count": 20,
   "metadata": {},
   "outputs": [],
   "source": [
    "backend = BasicAer.get_backend('qasm_simulator')\n",
    "job = execute(qcEb, backend, shots=1024)\n",
    "sresult = job.result()\n",
    "scounts = sresult.get_counts()"
   ]
  },
  {
   "cell_type": "code",
   "execution_count": 21,
   "metadata": {},
   "outputs": [
    {
     "name": "stdout",
     "output_type": "stream",
     "text": [
      "{'01': 498, '10': 526}\n"
     ]
    }
   ],
   "source": [
    "print(scounts)"
   ]
  },
  {
   "cell_type": "code",
   "execution_count": 22,
   "metadata": {},
   "outputs": [
    {
     "name": "stdout",
     "output_type": "stream",
     "text": [
      "We'll use the least busy IBMQ device: ibmqx4\n"
     ]
    }
   ],
   "source": [
    "# processing quantum circuit on the real IBM Q Quantum Computer\n",
    "IBMQ.load_accounts()\n",
    "backend = providers.ibmq.least_busy(IBMQ.backends(simulator=False))\n",
    "print(\"We'll use the least busy IBMQ device:\", backend.name())\n",
    "job = execute(qcEb, backend)\n",
    "qresult = job.result()\n",
    "qcounts = qresult.get_counts()"
   ]
  },
  {
   "cell_type": "code",
   "execution_count": 23,
   "metadata": {},
   "outputs": [
    {
     "name": "stdout",
     "output_type": "stream",
     "text": [
      "Result from Real IBMQ Quantum Computer: {'01': 478, '00': 94, '10': 427, '11': 25}\n"
     ]
    }
   ],
   "source": [
    "print(\"Result from Real IBMQ Quantum Computer:\", qcounts)"
   ]
  },
  {
   "cell_type": "code",
   "execution_count": 24,
   "metadata": {},
   "outputs": [
    {
     "data": {
      "image/png": "[encoded data removed]",
      "text/plain": [
       "<Figure size 504x360 with 1 Axes>"
      ]
     },
     "execution_count": 24,
     "metadata": {},
     "output_type": "execute_result"
    }
   ],
   "source": [
    "legend=['Simulated QC', 'Real QC']\n",
    "plot_histogram([scounts, qcounts], legend=legend, bar_labels=True)"
   ]
  },
  {
   "cell_type": "code",
   "execution_count": null,
   "metadata": {},
   "outputs": [],
   "source": []
  }
 ],
 "metadata": {
  "kernelspec": {
   "display_name": "Python 3",
   "language": "python",
   "name": "python3"
  },
  "language_info": {
   "codemirror_mode": {
    "name": "ipython",
    "version": 3
   },
   "file_extension": ".py",
   "mimetype": "text/x-python",
   "name": "python",
   "nbconvert_exporter": "python",
   "pygments_lexer": "ipython3",
   "version": "3.7.2"
  }
 },
 "nbformat": 4,
 "nbformat_minor": 2
}
